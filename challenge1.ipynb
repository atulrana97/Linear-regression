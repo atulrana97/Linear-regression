{
 "cells": [
  {
   "cell_type": "code",
   "execution_count": 8,
   "metadata": {},
   "outputs": [],
   "source": [
    "import pandas as pd\n",
    "import numpy as np\n",
    "import matplotlib.pyplot as plt"
   ]
  },
  {
   "cell_type": "code",
   "execution_count": 9,
   "metadata": {},
   "outputs": [],
   "source": [
    "dfx=pd.read_csv(\"E:/machine learning course/training//Linear_X_Train.csv\")\n",
    "x=dfx.values\n",
    "dfy=pd.read_csv(\"E:/machine learning course/training/Linear_Y_Train.csv\")\n",
    "y=dfy.values"
   ]
  },
  {
   "cell_type": "code",
   "execution_count": 10,
   "metadata": {},
   "outputs": [
    {
     "data": {
      "image/png": "[encoded data removed]",
      "text/plain": [
       "<Figure size 432x288 with 1 Axes>"
      ]
     },
     "metadata": {
      "needs_background": "light"
     },
     "output_type": "display_data"
    }
   ],
   "source": [
    "X=(x-x.mean())/x.std()\n",
    "Y=y\n",
    "plt.scatter(X,Y)\n",
    "plt.show()"
   ]
  },
  {
   "cell_type": "code",
   "execution_count": 11,
   "metadata": {},
   "outputs": [],
   "source": [
    "def hypothesis(x,theta):\n",
    "    return theta[0]+(theta[1]*x)"
   ]
  },
  {
   "cell_type": "code",
   "execution_count": 12,
   "metadata": {},
   "outputs": [],
   "source": [
    "def error(X,Y,theta):\n",
    "    m=x.shape[0]\n",
    "    err=0\n",
    "    for i in range (m):\n",
    "        hx=hypothesis(X[i],theta)\n",
    "        err+=((hx-Y[i])**2)\n",
    "    return err"
   ]
  },
  {
   "cell_type": "code",
   "execution_count": 13,
   "metadata": {},
   "outputs": [],
   "source": [
    "def gradient(X,Y,theta):\n",
    "    grad=np.zeros((2,))\n",
    "    m=X.shape[0]\n",
    "    for i in range (m):\n",
    "        hx=hypothesis(X[i],theta)\n",
    "        grad[0]+=(hx-Y[i])\n",
    "        grad[1]+=((hx-Y[i])*X[i])\n",
    "    return grad"
   ]
  },
  {
   "cell_type": "code",
   "execution_count": null,
   "metadata": {},
   "outputs": [],
   "source": [
    "def gradient_decent(X,Y,learning_rate=0.0001):\n",
    "    error_list=[]\n",
    "    itr=0\n",
    "    max_itr=100\n",
    "    theta=np.zeros((2,))\n",
    "    while(itr<=max_itr):\n",
    "        grad=gradient(X,Y,theta)\n",
    "        theta[0]=theta[0]-(learning_rate*grad[0])\n",
    "        theta[1]=theta[1]-(learning_rate*grad[1])\n",
    "        e=error(X,Y,theta)\n",
    "        error_list.append(e)\n",
    "        itr+=1\n",
    "    return theta,error_list"
   ]
  },
  {
   "cell_type": "code",
   "execution_count": null,
   "metadata": {},
   "outputs": [],
   "source": [
    "final_theta,error_list=gradient_decent(X,Y)\n",
    "print(final_theta)"
   ]
  },
  {
   "cell_type": "code",
   "execution_count": null,
   "metadata": {},
   "outputs": [],
   "source": [
    "dfxtest=pd.read_csv(\"E:/machine learning course/testing/Linear_X_Test.csv\")\n",
    "xtest=dfxtest.values"
   ]
  },
  {
   "cell_type": "code",
   "execution_count": null,
   "metadata": {},
   "outputs": [],
   "source": [
    "plt.figure(figsize=(8,8))\n",
    "plt.plot(xtest,hypothesis(xtest,final_theta),color='orange',label='TESTING SAMPLE')\n",
    "plt.scatter(X,Y,label='TRAINING DATA')\n",
    "plt.legend()\n",
    "plt.show()"
   ]
  },
  {
   "cell_type": "code",
   "execution_count": null,
   "metadata": {},
   "outputs": [],
   "source": [
    "final_output=hypothesis(xtest,final_theta)"
   ]
  },
  {
   "cell_type": "code",
   "execution_count": null,
   "metadata": {},
   "outputs": [],
   "source": [
    "print(final_output)"
   ]
  },
  {
   "cell_type": "code",
   "execution_count": null,
   "metadata": {},
   "outputs": [],
   "source": [
    "print(type(final_output))"
   ]
  },
  {
   "cell_type": "code",
   "execution_count": null,
   "metadata": {},
   "outputs": [],
   "source": [
    "final_output.tofile('output.csv',sep='\\n',format='%.6f')"
   ]
  },
  {
   "cell_type": "code",
   "execution_count": null,
   "metadata": {},
   "outputs": [],
   "source": [
    "np.savetxt('submission1.csv',final_output,fmt='%0.6f')"
   ]
  },
  {
   "cell_type": "code",
   "execution_count": null,
   "metadata": {},
   "outputs": [],
   "source": []
  }
 ],
 "metadata": {
  "kernelspec": {
   "display_name": "Python 3",
   "language": "python",
   "name": "python3"
  },
  "language_info": {
   "codemirror_mode": {
    "name": "ipython",
    "version": 3
   },
   "file_extension": ".py",
   "mimetype": "text/x-python",
   "name": "python",
   "nbconvert_exporter": "python",
   "pygments_lexer": "ipython3",
   "version": "3.7.1"
  }
 },
 "nbformat": 4,
 "nbformat_minor": 2
}
